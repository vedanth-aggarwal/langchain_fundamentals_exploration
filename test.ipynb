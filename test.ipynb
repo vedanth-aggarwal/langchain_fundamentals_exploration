{
 "cells": [
  {
   "cell_type": "code",
   "execution_count": 4,
   "id": "4232e38b-6a20-492d-8217-e7b0430d6e58",
   "metadata": {},
   "outputs": [
    {
     "ename": "TypeError",
     "evalue": "'ChatCompletionMessage' object is not subscriptable",
     "output_type": "error",
     "traceback": [
      "\u001b[1;31m---------------------------------------------------------------------------\u001b[0m",
      "\u001b[1;31mTypeError\u001b[0m                                 Traceback (most recent call last)",
      "Cell \u001b[1;32mIn[4], line 25\u001b[0m\n\u001b[0;32m      4\u001b[0m client \u001b[38;5;241m=\u001b[39m OpenAI(api_key\u001b[38;5;241m=\u001b[39m\u001b[38;5;124m\"\u001b[39m\u001b[38;5;124msk-proj-5PtJfS13Mw2cwvIBscB6T3BlbkFJAbonhz5auCPZwxjzp6NL\u001b[39m\u001b[38;5;124m\"\u001b[39m)\n\u001b[0;32m      6\u001b[0m response \u001b[38;5;241m=\u001b[39m client\u001b[38;5;241m.\u001b[39mchat\u001b[38;5;241m.\u001b[39mcompletions\u001b[38;5;241m.\u001b[39mcreate(\n\u001b[0;32m      7\u001b[0m   model\u001b[38;5;241m=\u001b[39m\u001b[38;5;124m\"\u001b[39m\u001b[38;5;124mgpt-4-turbo\u001b[39m\u001b[38;5;124m\"\u001b[39m,\n\u001b[0;32m      8\u001b[0m   messages\u001b[38;5;241m=\u001b[39m[\n\u001b[1;32m   (...)\u001b[0m\n\u001b[0;32m     22\u001b[0m   max_tokens\u001b[38;5;241m=\u001b[39m\u001b[38;5;241m300\u001b[39m,\n\u001b[0;32m     23\u001b[0m )\n\u001b[1;32m---> 25\u001b[0m \u001b[38;5;28mprint\u001b[39m(\u001b[43mresponse\u001b[49m\u001b[38;5;241;43m.\u001b[39;49m\u001b[43mchoices\u001b[49m\u001b[43m[\u001b[49m\u001b[38;5;241;43m0\u001b[39;49m\u001b[43m]\u001b[49m\u001b[38;5;241;43m.\u001b[39;49m\u001b[43mmessage\u001b[49m\u001b[43m[\u001b[49m\u001b[38;5;124;43m'\u001b[39;49m\u001b[38;5;124;43mcontent\u001b[39;49m\u001b[38;5;124;43m'\u001b[39;49m\u001b[43m]\u001b[49m)\n",
      "\u001b[1;31mTypeError\u001b[0m: 'ChatCompletionMessage' object is not subscriptable"
     ]
    }
   ],
   "source": [
    "from openai import OpenAI\n",
    "responses = []\n",
    "#os.environ['OPENAI_API_KEY'] = \n",
    "client = OpenAI(api_key=\"sk-proj-5PtJfS13Mw2cwvIBscB6T3BlbkFJAbonhz5auCPZwxjzp6NL\")\n",
    "\n",
    "response = client.chat.completions.create(\n",
    "  model=\"gpt-4-turbo\",\n",
    "  messages=[\n",
    "    {\n",
    "      \"role\": \"user\",\n",
    "      \"content\": [\n",
    "        {\"type\": \"text\", \"text\": \"Interpret the data using the statistical information and give 3 data driven observations and a conclusion\"},\n",
    "        {\n",
    "          \"type\": \"image_url\",\n",
    "          \"image_url\": {\n",
    "            \"url\": \"https://usercontent.one/wp/www.consistency.de/wp-content/uploads/2021/06/YPq-wvMXDQnkKZDLTbuKtbRDf3SDsTSz9yZE684TumQ.png?media=1710347555\",\n",
    "          },\n",
    "        },\n",
    "      ],\n",
    "    }\n",
    "  ],\n",
    "  max_tokens=300,\n",
    ")\n",
    "\n",
    "#print(response.choices[0].message['content'])"
   ]
  },
  {
   "cell_type": "code",
   "execution_count": 5,
   "id": "fc8d130b-a986-44e8-b997-2587e066a5a5",
   "metadata": {},
   "outputs": [
    {
     "name": "stdout",
     "output_type": "stream",
     "text": [
      "This chart provides a comprehensive timeline of projected environmental changes and policy implementations aimed at reducing carbon emissions from 2025 to 2050. The emissions from various sectors such as buildings, transport, industry, electricity and heat, and others are visualized over time, alongside key milestones in environmental policies and technological advancements.\n",
      "\n",
      "### Data-driven Observations\n",
      "\n",
      "1. **Decrease in Total Carbon Emissions**: Starting in 2020, total carbon emissions are projected to decrease steadily from slightly under 35 gigatonnes (Gt) CO2 to below 5 Gt CO2 by 2050. This suggests significant expected effectiveness in the implementation of carbon reduction strategies across various sectors.\n",
      "\n",
      "2. **Significant Transformations in Energy and Transport Sectors**:\n",
      "   - By 2030, all the new buildings are planned to be zero-carbon-ready and 60% of global car sales are projected to be electric. This indicates a major shift towards sustainable living and transportation options.\n",
      "   - By 2040, 50% of existing buildings are expected to be retrofitted to zero-carbon levels, and 50% of fuels used in low-emission aviation and almost 70% of electricity generation globally from solar PV and wind by 2050, highlighting advancements and greater adoption of renewable energy sources.\n",
      "\n",
      "3. **Advancement in Industrial and Technological Fronts**: \n",
      "   - The chart shows a planned increase in low-carbon hydrogen production from 150 megatonnes (Mt)\n"
     ]
    }
   ],
   "source": [
    "print(response.choices[0].message.content)\n",
    "responses.append(response.choices[0].message.content)"
   ]
  },
  {
   "cell_type": "code",
   "execution_count": null,
   "id": "deee9c91-b721-4ca3-8ac1-d13c35af21f7",
   "metadata": {},
   "outputs": [],
   "source": [
    "for response in responses:\n",
    "    print(response)\n",
    "\"\"\"\n",
    "This chart provides a comprehensive timeline of projected environmental changes and policy implementations aimed at reducing carbon emissions from 2025 to 2050. The emissions from various sectors such as buildings, transport, industry, electricity and heat, and others are visualized over time, alongside key milestones in environmental policies and technological advancements.\n",
    "\n",
    "### Data-driven Observations\n",
    "\n",
    "1. **Decrease in Total Carbon Emissions**: Starting in 2020, total carbon emissions are projected to decrease steadily from slightly under 35 gigatonnes (Gt) CO2 to below 5 Gt CO2 by 2050. This suggests significant expected effectiveness in the implementation of carbon reduction strategies across various sectors.\n",
    "\n",
    "2. **Significant Transformations in Energy and Transport Sectors**:\n",
    "   - By 2030, all the new buildings are planned to be zero-carbon-ready and 60% of global car sales are projected to be electric. This indicates a major shift towards sustainable living and transportation options.\n",
    "   - By 2040, 50% of existing buildings are expected to be retrofitted to zero-carbon levels, and 50% of fuels used in low-emission aviation and almost 70% of electricity generation globally from solar PV and wind by 2050, highlighting advancements and greater adoption of renewable energy sources.\n",
    "\n",
    "3. **Advancement in Industrial and Technological Fronts**: \n",
    "\"\"\""
   ]
  }
 ],
 "metadata": {
  "kernelspec": {
   "display_name": "Python 3 (ipykernel)",
   "language": "python",
   "name": "python3"
  },
  "language_info": {
   "codemirror_mode": {
    "name": "ipython",
    "version": 3
   },
   "file_extension": ".py",
   "mimetype": "text/x-python",
   "name": "python",
   "nbconvert_exporter": "python",
   "pygments_lexer": "ipython3",
   "version": "3.11.9"
  }
 },
 "nbformat": 4,
 "nbformat_minor": 5
}
